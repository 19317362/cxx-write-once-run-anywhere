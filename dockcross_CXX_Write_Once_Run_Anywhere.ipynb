{
 "cells": [
  {
   "cell_type": "markdown",
   "metadata": {
    "collapsed": true,
    "slideshow": {
     "slide_type": "slide"
    }
   },
   "source": [
    "# dockcross: C++ Write Once, Run Anywhere\n",
    "\n",
    "\n",
    "#### Triangle C++ Developers Group\n",
    "#### November 17, 2016\n",
    "\n",
    "#### Matt McCormick, PhD\n",
    "#### Kitware, Inc\n",
    "\n",
    "https://github.com/dockcross/cxx-write-once-run-anywhere"
   ]
  },
  {
   "cell_type": "markdown",
   "metadata": {
    "slideshow": {
     "slide_type": "slide"
    }
   },
   "source": [
    "## Motivation"
   ]
  },
  {
   "cell_type": "markdown",
   "metadata": {
    "slideshow": {
     "slide_type": "subslide"
    }
   },
   "source": [
    "### \"Write Once, Run Anywhere\"\n",
    "\n",
    "![Java Logo](images/java-logo.png)\n",
    "\n",
    "Claim by Java programmers."
   ]
  },
  {
   "cell_type": "markdown",
   "metadata": {
    "slideshow": {
     "slide_type": "subslide"
    }
   },
   "source": [
    "### Avoid Controversy"
   ]
  },
  {
   "cell_type": "markdown",
   "metadata": {
    "slideshow": {
     "slide_type": "fragment"
    }
   },
   "source": [
    "# EMACS SUX!\n",
    "\n",
    "# VIM RULEZ!\n",
    "\n",
    "![vim rulez](images/vim-rulez.jpg)"
   ]
  },
  {
   "cell_type": "markdown",
   "metadata": {
    "slideshow": {
     "slide_type": "subslide"
    }
   },
   "source": [
    "### FactCheck: Java runs everywhere?\n",
    "\n",
    "![The Java JVM](images/jvm.png)"
   ]
  },
  {
   "cell_type": "markdown",
   "metadata": {
    "slideshow": {
     "slide_type": "fragment"
    }
   },
   "source": [
    "![You didn't fact check that!](images/fact-check1.jpg)\n",
    "\n",
    "- If you have a JVM installed..."
   ]
  },
  {
   "cell_type": "markdown",
   "metadata": {
    "slideshow": {
     "slide_type": "subslide"
    }
   },
   "source": [
    "### FactCheck: C++ runs everywhere"
   ]
  },
  {
   "cell_type": "markdown",
   "metadata": {
    "slideshow": {
     "slide_type": "fragment"
    }
   },
   "source": [
    "- C/C++ compilers are available for more platforms than any other language ✔"
   ]
  },
  {
   "cell_type": "markdown",
   "metadata": {
    "slideshow": {
     "slide_type": "fragment"
    }
   },
   "source": [
    "- We can effectively run C++ code on any platform ?"
   ]
  },
  {
   "cell_type": "markdown",
   "metadata": {
    "slideshow": {
     "slide_type": "fragment"
    }
   },
   "source": [
    "![Not true](images/fact-check2.jpg)"
   ]
  },
  {
   "cell_type": "markdown",
   "metadata": {
    "slideshow": {
     "slide_type": "subslide"
    }
   },
   "source": [
    "### What do we need to make it happen?"
   ]
  },
  {
   "cell_type": "markdown",
   "metadata": {
    "slideshow": {
     "slide_type": "fragment"
    }
   },
   "source": [
    "- Good build system support for cross-compilation"
   ]
  },
  {
   "cell_type": "markdown",
   "metadata": {
    "slideshow": {
     "slide_type": "fragment"
    }
   },
   "source": [
    "- Easy access to ready-to-use cross-compilation toolchains "
   ]
  },
  {
   "cell_type": "markdown",
   "metadata": {
    "slideshow": {
     "slide_type": "slide"
    }
   },
   "source": [
    "## dockcross\n",
    "\n",
    "<p>\n",
    "<big>https://github.com/dockcross/dockcross</big>\n",
    "</p>\n",
    "\n",
    "- Good build system support for cross-compilation → [CMake](https://cmake.org/)\n",
    "- Easy access to ready-to-use cross-compilation toolchains → [Docker](https://www.docker.com) images"
   ]
  },
  {
   "cell_type": "markdown",
   "metadata": {
    "slideshow": {
     "slide_type": "subslide"
    }
   },
   "source": [
    "### Open Source on GitHub\n",
    "\n",
    "[![dockcross GitHub](images/dockcross-github.png)](https://github.com/dockcross/dockcross)\n",
    "\n",
    "<p>\n",
    "<big>https://github.com/dockcross/dockcross</big>\n",
    "</p>"
   ]
  },
  {
   "cell_type": "markdown",
   "metadata": {
    "slideshow": {
     "slide_type": "subslide"
    }
   },
   "source": [
    "### CircleCI Deployed Images Freely Available on DockerHub\n",
    "\n",
    "[![dockcross DockerHub](images/dockcross-dockerhub.png)](https://hub.docker.com/u/dockcross)\n",
    "\n",
    "<p>\n",
    "<big>https://hub.docker.com/u/dockcross</big>\n",
    "</p>"
   ]
  },
  {
   "cell_type": "markdown",
   "metadata": {
    "slideshow": {
     "slide_type": "subslide"
    }
   },
   "source": [
    "### Available Cross Compilers\n",
    "\n",
    "- **dockcross/base**: Base image for other toolchain images. From Debian Jessie with GCC, make, autotools, CMake, Ninja, Git, and Python.\n",
    "- **dockcross/android-arm**: The Android NDK standalone toolchain for the arm architecture.\n",
    "- **dockcross/browser-asmjs**: The Emscripten JavaScript cross compiler."
   ]
  },
  {
   "cell_type": "markdown",
   "metadata": {
    "slideshow": {
     "slide_type": "subslide"
    }
   },
   "source": [
    "### Available Cross Compilers (cont.)\n",
    "\n",
    "- **dockcross/linux-arm64**: Cross compiler for the 64-bit ARM platform on Linux, also known as AArch64.\n",
    "- **dockcross/linux-armv5**: Linux armv5 cross compiler toolchain for legacy devices like the Parrot AR Drone.\n",
    "- **dockcross/linux-armv6**: Linux ARMv6 cross compiler toolchain for the Raspberry Pi, etc.\n",
    "- **dockcross/linux-armv7**: Generic Linux armv7 cross compiler toolchain."
   ]
  },
  {
   "cell_type": "markdown",
   "metadata": {
    "slideshow": {
     "slide_type": "subslide"
    }
   },
   "source": [
    "### Available Cross Compilers (cont.)\n",
    "\n",
    "- **dockcross/linux-ppc64le**: Linux PowerPC 64 little endian cross compiler toolchain for the POWER8, etc.\n",
    "- **dockcross/linux-x64**: Linux x86_64 / amd64 compiler. Since the Docker image is natively x86_64, this is not actually a cross compiler.\n",
    "- **dockcross/linux-x86**: Linux i686 cross compiler."
   ]
  },
  {
   "cell_type": "markdown",
   "metadata": {
    "slideshow": {
     "slide_type": "subslide"
    }
   },
   "source": [
    "### Available Cross Compilers (cont.)\n",
    "\n",
    "- **dockcross/manylinux-x64**: Docker manylinux image for building Linux x86_64 / amd64 Python wheel packages.\n",
    "- **dockcross/manylinux-x86**: Docker manylinux image for building Linux i686 Python wheel packages."
   ]
  },
  {
   "cell_type": "markdown",
   "metadata": {
    "slideshow": {
     "slide_type": "subslide"
    }
   },
   "source": [
    "### Available Cross Compilers (cont.)\n",
    "\n",
    "- **dockcross/windows-x64**: 64-bit Windows cross-compiler based on MXE/MinGW-w64.\n",
    "- **dockcross/windows-x86**: 32-bit Windows cross-compiler based on MXE/MinGW-w64."
   ]
  },
  {
   "cell_type": "markdown",
   "metadata": {
    "slideshow": {
     "slide_type": "subslide"
    }
   },
   "source": [
    "### Not Available: Mac OSX\n",
    "\n",
    "A [cross-compiling toolchain exists](https://github.com/tpoechtrager/osxcross), but [Apple's SDK terms of service](https://www.apple.com/legal/sla/docs/xcode.pdf) state: \n",
    "\n",
    "> You agree not to rent, lease, lend, upload to or host on any website or server, sell, redistribute, or\n",
    "> sublicense the Apple Software and Apple Services, in whole or in part, or to enable others to do so. \n",
    "\n",
    "and \n",
    "\n",
    "> You are expressly prohibited from separately using the Apple SDKs or attempting to run any part of the\n",
    "> Apple Software on non-Apple-branded hardware. "
   ]
  },
  {
   "cell_type": "markdown",
   "metadata": {
    "slideshow": {
     "slide_type": "subslide"
    }
   },
   "source": [
    "### Cross Platform\n",
    "\n",
    "- Linux\n",
    "- Mac OSX (with [Docker for Mac](https://docs.docker.com/docker-for-mac/))\n",
    "- Windows (with [Docker for Windows](https://docs.docker.com/docker-for-windows/) and [Bash on Ubuntu on Windows](https://msdn.microsoft.com/en-us/commandline/wsl/about), [Git Bash](https://git-for-windows.github.io/), etc.)\n",
    "- Continuous Integration (CI) testing systems that support Docker\n",
    "\n",
    "![Linux Mac Windows CircleCI](images/platforms.png)"
   ]
  },
  {
   "cell_type": "markdown",
   "metadata": {
    "slideshow": {
     "slide_type": "subslide"
    }
   },
   "source": [
    "### Example"
   ]
  },
  {
   "cell_type": "code",
   "execution_count": 1,
   "metadata": {
    "collapsed": false,
    "slideshow": {
     "slide_type": "skip"
    }
   },
   "outputs": [
    {
     "name": "stdout",
     "output_type": "stream",
     "text": []
    }
   ],
   "source": [
    "# Clean up previous runs\n",
    "cd example\n",
    "rm -f dockcross-*\n",
    "rm -rf build\n",
    "mkdir build\n",
    "cd .."
   ]
  },
  {
   "cell_type": "code",
   "execution_count": 2,
   "metadata": {
    "collapsed": false
   },
   "outputs": [
    {
     "name": "stdout",
     "output_type": "stream",
     "text": [
      ".\r\n",
      "./src\r\n",
      "./src/TestQnanhibit.c\r\n",
      "./src/IntrospectionDemo.cxx\r\n",
      "./src/IntrospectionDemoConfigure.h.in\r\n",
      "./src/CMakeLists.txt\r\n",
      "./build\r\n"
     ]
    }
   ],
   "source": [
    "cd example\n",
    "find ."
   ]
  },
  {
   "cell_type": "code",
   "execution_count": 3,
   "metadata": {
    "collapsed": false,
    "slideshow": {
     "slide_type": "skip"
    }
   },
   "outputs": [
    {
     "name": "stdout",
     "output_type": "stream",
     "text": []
    }
   ],
   "source": [
    "docker run --rm dockcross/windows-x64 > dockcross-windows-x64\n",
    "chmod +x ./dockcross-windows-x64\n",
    "docker run --rm dockcross/windows-x86 > dockcross-windows-x86\n",
    "chmod +x ./dockcross-windows-x86\n",
    "docker run --rm dockcross/linux-arm64 > dockcross-linux-arm64\n",
    "chmod +x ./dockcross-linux-arm64"
   ]
  },
  {
   "cell_type": "markdown",
   "metadata": {
    "slideshow": {
     "slide_type": "subslide"
    }
   },
   "source": [
    "#### Get the dockcross Script"
   ]
  },
  {
   "cell_type": "code",
   "execution_count": 4,
   "metadata": {
    "collapsed": false
   },
   "outputs": [
    {
     "name": "stdout",
     "output_type": "stream",
     "text": [
      "Using default tag: latest\r\n",
      "latest: Pulling from dockcross/windows-x64\r\n",
      "\u001b[0B\r\n",
      "\u001b[0A\u001b[2K\r",
      "43c265008fae: Already exists \r",
      "\u001b[0B\r\n",
      "\u001b[0A\u001b[2K\r",
      "a3ed95caeb02: Already exists \r",
      "\u001b[0B\r\n",
      "\u001b[0A\u001b[2K\r",
      "756dbf6b28e0: Already exists \r",
      "\u001b[0B\r\n",
      "\u001b[0A\u001b[2K\r",
      "c5c9ab005f74: Already exists \r",
      "\u001b[0B\u001b[3A\u001b[2K\r",
      "a3ed95caeb02: Already exists \r",
      "\u001b[3B\r\n",
      "\u001b[0A\u001b[2K\r",
      "6e878b4568bb: Already exists \r",
      "\u001b[0B\r\n",
      "\u001b[0A\u001b[2K\r",
      "2042b1f24b19: Already exists \r",
      "\u001b[0B\u001b[5A\u001b[2K\r",
      "a3ed95caeb02: Already exists \r",
      "\u001b[5B\r\n",
      "\u001b[0A\u001b[2K\r",
      "255933069b71: Already exists \r",
      "\u001b[0B\r\n",
      "\u001b[0A\u001b[2K\r",
      "7de8137031fc: Already exists \r",
      "\u001b[0B\r\n",
      "\u001b[0A\u001b[2K\r",
      "f8f6bb9b2d5f: Already exists \r",
      "\u001b[0B\r\n",
      "\u001b[0A\u001b[2K\r",
      "fa604be0cdc2: Already exists \r",
      "\u001b[0B\r\n",
      "\u001b[0A\u001b[2K\r",
      "112d7278994f: Already exists \r",
      "\u001b[0B\u001b[10A\u001b[2K\r",
      "a3ed95caeb02: Already exists \r",
      "\u001b[10B\u001b[10A\u001b[2K\r",
      "a3ed95caeb02: Already exists \r",
      "\u001b[10B\r\n",
      "\u001b[0A\u001b[2K\r",
      "1e453a4101c5: Already exists \r",
      "\u001b[0B\u001b[11A\u001b[2K\r",
      "a3ed95caeb02: Already exists \r",
      "\u001b[11B\u001b[11A\u001b[2K\r",
      "a3ed95caeb02: Already exists \r",
      "\u001b[11B\u001b[11A\u001b[2K\r",
      "a3ed95caeb02: Already exists \r",
      "\u001b[11B\u001b[11A\u001b[2K\r",
      "a3ed95caeb02: Already exists \r",
      "\u001b[11B\u001b[11A\u001b[2K\r",
      "a3ed95caeb02: Already exists \r",
      "\u001b[11B\u001b[11A\u001b[2K\r",
      "a3ed95caeb02: Already exists \r",
      "\u001b[11B\r\n",
      "\u001b[0A\u001b[2K\r",
      "26c6e138f14e: Already exists \r",
      "\u001b[0B\r\n",
      "\u001b[0A\u001b[2K\r",
      "7bb72d8b6311: Already exists \r",
      "\u001b[0B\u001b[13A\u001b[2K\r",
      "a3ed95caeb02: Already exists \r",
      "\u001b[13B\r\n",
      "\u001b[0A\u001b[2K\r",
      "e6affc1938ce: Already exists \r",
      "\u001b[0B\u001b[14A\u001b[2K\r",
      "a3ed95caeb02: Already exists \r",
      "\u001b[14B\r\n",
      "\u001b[0A\u001b[2K\r",
      "39ff42ef1593: Already exists \r",
      "\u001b[0B\u001b[15A\u001b[2K\r",
      "a3ed95caeb02: Already exists \r",
      "\u001b[15B\r\n",
      "\u001b[0A\u001b[2K\r",
      "90c3ec35145a: Already exists \r",
      "\u001b[0B\r\n",
      "\u001b[0A\u001b[2K\r",
      "bf0f30a942ca: Already exists \r",
      "\u001b[0B\u001b[17A\u001b[2K\r",
      "a3ed95caeb02: Already exists \r",
      "\u001b[17B\u001b[17A\u001b[2K\r",
      "a3ed95caeb02: Already exists \r",
      "\u001b[17B\u001b[17A\u001b[2K\r",
      "a3ed95caeb02: Already exists \r",
      "\u001b[17B\u001b[17A\u001b[2K\r",
      "a3ed95caeb02: Already exists \r",
      "\u001b[17B\u001b[17A\u001b[2K\r",
      "a3ed95caeb02: Already exists \r",
      "\u001b[17B\u001b[17A\u001b[2K\r",
      "a3ed95caeb02: Already exists \r",
      "\u001b[17B\r\n",
      "\u001b[0A\u001b[2K\r",
      "6ed96fa01bd0: Already exists \r",
      "\u001b[0B\u001b[18A\u001b[2K\r",
      "a3ed95caeb02: Already exists \r",
      "\u001b[18B\u001b[18A\u001b[2K\r",
      "a3ed95caeb02: Already exists \r",
      "\u001b[18B\u001b[18A\u001b[2K\r",
      "a3ed95caeb02: Already exists \r",
      "\u001b[18B\u001b[18A\u001b[2K\r",
      "a3ed95caeb02: Already exists \r",
      "\u001b[18B\u001b[18A\u001b[2K\r",
      "a3ed95caeb02: Already exists \r",
      "\u001b[18BDigest: sha256:8a96184a5e7d5a29afe568c94041f03c80d415d2801b64c00bac79790ca55869\r\n",
      "Status: Image is up to date for dockcross/windows-x64:latest\r\n"
     ]
    }
   ],
   "source": [
    "docker pull dockcross/windows-x64\n",
    "docker run --rm dockcross/windows-x64 > dockcross-windows-x64\n",
    "chmod +x ./dockcross-windows-x64"
   ]
  },
  {
   "cell_type": "markdown",
   "metadata": {
    "slideshow": {
     "slide_type": "subslide"
    }
   },
   "source": [
    "#### Build the Project"
   ]
  },
  {
   "cell_type": "code",
   "execution_count": 5,
   "metadata": {
    "collapsed": false
   },
   "outputs": [
    {
     "name": "stdout",
     "output_type": "stream",
     "text": [
      "-- The C compiler identification is GNU 4.9.4\r\n",
      "-- The CXX compiler identification is GNU 4.9.4\r\n",
      "-- Check for working C compiler: /usr/src/mxe/usr/bin/x86_64-w64-mingw32.static-gcc\r\n",
      "-- Check for working C compiler: /usr/src/mxe/usr/bin/x86_64-w64-mingw32.static-gcc -- works\r\n",
      "-- Detecting C compiler ABI info\r\n",
      "-- Detecting C compiler ABI info - done\r\n",
      "-- Detecting C compile features\r\n",
      "-- Detecting C compile features - done\r\n",
      "-- Check for working CXX compiler: /usr/src/mxe/usr/bin/x86_64-w64-mingw32.static-g++\r\n",
      "-- Check for working CXX compiler: /usr/src/mxe/usr/bin/x86_64-w64-mingw32.static-g++ -- works\r\n",
      "-- Detecting CXX compiler ABI info\r\n",
      "-- Detecting CXX compiler ABI info - done\r\n",
      "-- Detecting CXX compile features\r\n",
      "-- Detecting CXX compile features - done\r\n",
      "-- Looking for sys/types.h\r\n",
      "-- Looking for sys/types.h - found\r\n",
      "-- Looking for stdint.h\r\n",
      "-- Looking for stdint.h - found\r\n",
      "-- Looking for stddef.h\r\n",
      "-- Looking for stddef.h - found\r\n",
      "-- Check size of long\r\n",
      "-- Check size of long - done\r\n",
      "-- Double correction test returned: 89255.0/1e22 = 8.9255e-018\r\n",
      "-- Configuring done\r\n",
      "-- Generating done\r\n",
      "-- Build files have been written to: /work/build\r\n",
      "ninja: Entering directory `build'\r\n",
      "\r",
      "[0/2] Building CXX object CMakeFiles/I...tionDemo.dir/IntrospectionDemo.cxx.obj\u001b[K\r",
      "[1/2] Building CXX object CMakeFiles/I...tionDemo.dir/IntrospectionDemo.cxx.obj\u001b[K\r",
      "[1/2] Linking CXX executable IntrospectionDemo.exe\u001b[K\r",
      "[2/2] Linking CXX executable IntrospectionDemo.exe\u001b[K\r\n"
     ]
    }
   ],
   "source": [
    "./dockcross-windows-x64 cmake -Hsrc -Bbuild -GNinja\n",
    "./dockcross-windows-x64 ninja -Cbuild"
   ]
  },
  {
   "cell_type": "markdown",
   "metadata": {
    "slideshow": {
     "slide_type": "slide"
    }
   },
   "source": [
    "## Problems Solved"
   ]
  },
  {
   "cell_type": "markdown",
   "metadata": {
    "slideshow": {
     "slide_type": "subslide"
    }
   },
   "source": [
    "### Toolchain Configuration\n",
    "\n",
    "- Pre-built and configured toolchains.\n",
    "- Most images also contain an emulator for the target system.\n",
    "- Make variables (CC, LD etc) are set to point to the appropriate tools in the container.\n",
    "- Recent CMake and ninja are precompiled.\n",
    "- Toolchain files configured for CMake.\n",
    "\n",
    "![Frustrated Jackie Chan](images/xcompile_jackie_chan.jpg)"
   ]
  },
  {
   "cell_type": "markdown",
   "metadata": {
    "slideshow": {
     "slide_type": "subslide"
    }
   },
   "source": [
    "### Portable, Reproducible Build Environment\n",
    "\n",
    "- Download the build system with a simple `docker pull`\n",
    "- Commands in the container are run as the calling user, so that any created files have the expected ownership, (i.e. not root).\n",
    "- Clean build environment separation -- every run is a new Docker container"
   ]
  },
  {
   "cell_type": "markdown",
   "metadata": {
    "slideshow": {
     "slide_type": "subslide"
    }
   },
   "source": [
    "### Compiler-based Platform Introspection\n",
    "\n",
    "CMake has a [`try_compile`](https://cmake.org/cmake/help/latest/command/try_compile.html) command to perform compiler-based platform introspection. It learns about the system by trying to compile a small source file.\n",
    "\n",
    "```CMake\n",
    "# The CheckTypeSize CMake module uses the\n",
    "# try_compile command internally\n",
    "include(CheckTypeSize)\n",
    "check_type_size(\"long\" IntrospectionDemo_SIZEOF_LONG)\n",
    "\n",
    "configure_file(IntrospectionDemoConfigure.h.in\n",
    "  IntrospectionDemoConfigure.h)\n",
    "\n",
    "```"
   ]
  },
  {
   "cell_type": "code",
   "execution_count": 6,
   "metadata": {
    "collapsed": false,
    "slideshow": {
     "slide_type": "subslide"
    }
   },
   "outputs": [
    {
     "name": "stdout",
     "output_type": "stream",
     "text": [
      "-- Check size of long\r\n",
      "-- Check size of long - done\r\n",
      "-- Double correction test returned: 89255.0/1e22 = 8.9255e-018\r\n",
      "-- Configuring done\r\n",
      "-- Generating done\r\n",
      "-- Build files have been written to: /work/build\r\n"
     ]
    }
   ],
   "source": [
    "rm -rf build/*\n",
    "./dockcross-windows-x86 cmake -Hsrc -Bbuild -GNinja | tail -n 6"
   ]
  },
  {
   "cell_type": "code",
   "execution_count": 7,
   "metadata": {
    "collapsed": false,
    "scrolled": true,
    "slideshow": {
     "slide_type": "-"
    }
   },
   "outputs": [
    {
     "name": "stdout",
     "output_type": "stream",
     "text": [
      "#define IntrospectionDemo_SIZEOF_LONG 4\r\n"
     ]
    }
   ],
   "source": [
    "grep SIZEOF_LONG ./build/IntrospectionDemoConfigure.h"
   ]
  },
  {
   "cell_type": "code",
   "execution_count": 8,
   "metadata": {
    "collapsed": false,
    "slideshow": {
     "slide_type": "subslide"
    }
   },
   "outputs": [
    {
     "name": "stdout",
     "output_type": "stream",
     "text": [
      "-- Check size of long\r",
      "\r\n",
      "-- Check size of long - done\r",
      "\r\n",
      "-- Double correction test returned: 89255.0/1e22 = 8.9255e-18\r",
      "\r\n",
      "-- Configuring done\r",
      "\r\n",
      "-- Generating done\r",
      "\r\n",
      "-- Build files have been written to: /work/build\r",
      "\r\n"
     ]
    }
   ],
   "source": [
    "rm -rf build/*\n",
    "./dockcross-linux-arm64 cmake -Hsrc -Bbuild -GNinja | tail -n 6"
   ]
  },
  {
   "cell_type": "code",
   "execution_count": 9,
   "metadata": {
    "collapsed": false
   },
   "outputs": [
    {
     "name": "stdout",
     "output_type": "stream",
     "text": [
      "#define IntrospectionDemo_SIZEOF_LONG 8\r\n"
     ]
    }
   ],
   "source": [
    "grep SIZEOF_LONG ./build/IntrospectionDemoConfigure.h"
   ]
  },
  {
   "cell_type": "markdown",
   "metadata": {
    "slideshow": {
     "slide_type": "subslide"
    }
   },
   "source": [
    "### Runtime-based Platform Introspection\n",
    "\n",
    "CMake also has a [`try_run`](https://cmake.org/cmake/help/latest/command/try_run.html) command to perform command execution-based platform introspection. It learns about the system by trying to run a small source file. An emulator can be used to automatically generate this information when cross-compiling."
   ]
  },
  {
   "cell_type": "markdown",
   "metadata": {
    "slideshow": {
     "slide_type": "subslide"
    }
   },
   "source": [
    "To determine if there is an [80 bit or 64 bit floating point stack](https://github.com/google/double-conversion/blob/d4d68e4e788bec89d55a6a3e33af674087837c82/double-conversion/utils.h#L60-L69)\n",
    "\n",
    "```CMake\n",
    "set(_test_source \"${CMAKE_CURRENT_BINARY_DIR}${CMAKE_FILES_DIRECTORY}/double-correction-needed.cc\")\n",
    "file(WRITE ${_test_source} \"\n",
    "#include <stdio.h>\n",
    "int main(int, char **)\n",
    "{\n",
    "  const double correct = 89255.0/1e22;\n",
    "  printf(\\\"89255.0/1e22 = %g\\\", correct);\n",
    "  if( correct != 89255e-22 )\n",
    "    {\n",
    "    // correction required\n",
    "    return 0;\n",
    "    }\n",
    "  return 1;\n",
    "}\")\n",
    "try_run(IntrospectionDemo_DOUBLE_CORRECTION_NEEDED\n",
    "  DOUBLE_CORRECT_NEEDED_COMPILED\n",
    "  ${CMAKE_CURRENT_BINARY_DIR} ${_test_source}\n",
    "  RUN_OUTPUT_VARIABLE _double_correction_out)\n",
    "message(STATUS \"Double correction test returned: ${_double_correction_out}\")\n",
    "```"
   ]
  },
  {
   "cell_type": "code",
   "execution_count": 10,
   "metadata": {
    "collapsed": false,
    "slideshow": {
     "slide_type": "subslide"
    }
   },
   "outputs": [
    {
     "name": "stdout",
     "output_type": "stream",
     "text": [
      "-- Double correction test returned: 89255.0/1e22 = 8.9255e-18\r",
      "\r\n",
      "-- Configuring done\r",
      "\r\n",
      "-- Generating done\r",
      "\r\n",
      "-- Build files have been written to: /work/build\r",
      "\r\n"
     ]
    }
   ],
   "source": [
    "rm -rf build/*\n",
    "./dockcross-linux-arm64 cmake -Hsrc -Bbuild -GNinja | tail -n 4"
   ]
  },
  {
   "cell_type": "markdown",
   "metadata": {
    "slideshow": {
     "slide_type": "subslide"
    }
   },
   "source": [
    "### Test Execution\n",
    "\n",
    "How do we know the build works -- we need to test it!\n",
    "\n",
    "Tests can be executed with the target system emulator."
   ]
  },
  {
   "cell_type": "code",
   "execution_count": 11,
   "metadata": {
    "collapsed": false,
    "slideshow": {
     "slide_type": "subslide"
    }
   },
   "outputs": [
    {
     "name": "stdout",
     "output_type": "stream",
     "text": [
      "ninja: Entering directory `build'\r\n",
      "\r",
      "[0/2] Building CXX object CMakeFiles/I...ectionDemo.dir/IntrospectionDemo.cxx.o\u001b[K\r",
      "[1/2] Building CXX object CMakeFiles/I...ectionDemo.dir/IntrospectionDemo.cxx.o\u001b[K\r",
      "[1/2] Linking CXX executable IntrospectionDemo\u001b[K\r",
      "[2/2] Linking CXX executable IntrospectionDemo\u001b[K\r\n"
     ]
    }
   ],
   "source": [
    "./dockcross-linux-arm64 ninja -Cbuild"
   ]
  },
  {
   "cell_type": "code",
   "execution_count": 12,
   "metadata": {
    "collapsed": false
   },
   "outputs": [
    {
     "name": "stdout",
     "output_type": "stream",
     "text": [
      "UpdateCTestConfiguration  from :/work/build/DartConfiguration.tcl\r\n",
      "Parse Config file:/work/build/DartConfiguration.tcl\r\n",
      "UpdateCTestConfiguration  from :/work/build/DartConfiguration.tcl\r\n",
      "Parse Config file:/work/build/DartConfiguration.tcl\r\n",
      "Test project /work/build\r\n",
      "Constructing a list of tests\r\n",
      "Done constructing a list of tests\r\n",
      "Updating test list for fixtures\r\n",
      "Added 0 tests to meet fixture requirements\r\n",
      "Checking test dependency graph...\r\n",
      "Checking test dependency graph end\r\n",
      "test 1\r\n",
      "    Start 1: IntrospectionDemoTest\r\n",
      "\r\n",
      "1: Test command: /usr/bin/qemu-aarch64 \"/work/build/IntrospectionDemo\"\r\n",
      "1: Test timeout computed to be: 1500\r\n",
      "1: \r\n",
      "1: The 'long' type has 8 bytes.\r\n",
      "1: This platform needs double correction.\r\n",
      "1: \r\n",
      "1/1 Test #1: IntrospectionDemoTest ............   Passed    0.04 sec\r\n",
      "\r\n",
      "100% tests passed, 0 tests failed out of 1\r\n",
      "\r\n",
      "Total Test time (real) =   0.04 sec\r\n"
     ]
    }
   ],
   "source": [
    "\n",
    "./dockcross-linux-arm64 bash -c 'cd build && ctest -V'"
   ]
  },
  {
   "cell_type": "markdown",
   "metadata": {
    "slideshow": {
     "slide_type": "slide"
    }
   },
   "source": [
    "## Check It Out!\n",
    "\n",
    "- <big>https://github.com/dockcross/dockcross</big>\n",
    "- Open source collaboration welcome\n",
    "\n",
    "\n",
    "[![GitHub - https://github.com/thewtex](images/github-logo.png)](https://github.com/thewtex)\n",
    "#### https://github.com/thewtex \n",
    "\n",
    "[![Twitter - https://twitter.com/thewtex](images/twitter-logo.png)](https://twitter.com/thewtex)\n",
    "#### https://twitter.com/thewtex\n",
    "\n",
    "[![Kitware - http://www.kitware.com/](images/kitware-logo.png)](http://www.kitware.com)\n",
    "#### http://www.kitware.com"
   ]
  }
 ],
 "metadata": {
  "kernelspec": {
   "display_name": "Bash",
   "language": "bash",
   "name": "bash"
  },
  "language_info": {
   "codemirror_mode": "shell",
   "file_extension": ".sh",
   "mimetype": "text/x-sh",
   "name": "bash"
  }
 },
 "nbformat": 4,
 "nbformat_minor": 1
}

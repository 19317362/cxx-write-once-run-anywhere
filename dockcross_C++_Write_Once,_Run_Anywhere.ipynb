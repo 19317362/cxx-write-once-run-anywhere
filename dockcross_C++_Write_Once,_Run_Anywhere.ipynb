{
 "cells": [
  {
   "cell_type": "markdown",
   "metadata": {
    "collapsed": true,
    "slideshow": {
     "slide_type": "slide"
    }
   },
   "source": [
    "# dockcross: C++ Write Once, Run Anywhere\n",
    "\n",
    "\n",
    "#### Triangle C++ Developers Group\n",
    "#### November 17, 2016\n",
    "\n",
    "#### Matt McCormick, PhD\n",
    "#### Kitware, Inc\n",
    "\n",
    "https://github.com/dockcross/cxx-write-once-run-anywhere"
   ]
  },
  {
   "cell_type": "markdown",
   "metadata": {
    "slideshow": {
     "slide_type": "slide"
    }
   },
   "source": [
    "## Motivation"
   ]
  },
  {
   "cell_type": "markdown",
   "metadata": {
    "slideshow": {
     "slide_type": "subslide"
    }
   },
   "source": [
    "### \"Write Once, Run Anywhere\"\n",
    "\n",
    "![Java Logo](images/java-logo.png)\n",
    "\n",
    "Claim by Java programmers."
   ]
  },
  {
   "cell_type": "markdown",
   "metadata": {
    "slideshow": {
     "slide_type": "subslide"
    }
   },
   "source": [
    "### Avoid Controversy"
   ]
  },
  {
   "cell_type": "markdown",
   "metadata": {
    "slideshow": {
     "slide_type": "fragment"
    }
   },
   "source": [
    "# EMACS SUX!\n",
    "\n",
    "# VIM RULEZ!\n",
    "\n",
    "![vim rulez](images/vim-rulez.jpg)"
   ]
  },
  {
   "cell_type": "markdown",
   "metadata": {
    "slideshow": {
     "slide_type": "subslide"
    }
   },
   "source": [
    "### FactCheck: Java runs everywhere?\n",
    "\n",
    "![The Java JVM](images/jvm.png)"
   ]
  },
  {
   "cell_type": "markdown",
   "metadata": {
    "slideshow": {
     "slide_type": "fragment"
    }
   },
   "source": [
    "![You didn't fact check that!](images/fact-check1.jpg)\n",
    "\n",
    "- If you have a JVM installed..."
   ]
  },
  {
   "cell_type": "markdown",
   "metadata": {
    "slideshow": {
     "slide_type": "subslide"
    }
   },
   "source": [
    "### FactCheck: C++ runs everywhere"
   ]
  },
  {
   "cell_type": "markdown",
   "metadata": {
    "slideshow": {
     "slide_type": "fragment"
    }
   },
   "source": [
    "- C/C++ compilers are available for more platforms than any other language ✔"
   ]
  },
  {
   "cell_type": "markdown",
   "metadata": {
    "slideshow": {
     "slide_type": "fragment"
    }
   },
   "source": [
    "- We can effectively run C++ code on any platform ?"
   ]
  },
  {
   "cell_type": "markdown",
   "metadata": {
    "slideshow": {
     "slide_type": "fragment"
    }
   },
   "source": [
    "![Not true](images/fact-check2.jpg)"
   ]
  },
  {
   "cell_type": "markdown",
   "metadata": {
    "slideshow": {
     "slide_type": "subslide"
    }
   },
   "source": [
    "### What do we need to make it happen?"
   ]
  },
  {
   "cell_type": "markdown",
   "metadata": {
    "slideshow": {
     "slide_type": "fragment"
    }
   },
   "source": [
    "- Good build system support for cross-compilation"
   ]
  },
  {
   "cell_type": "markdown",
   "metadata": {
    "slideshow": {
     "slide_type": "fragment"
    }
   },
   "source": [
    "- Easy access to ready-to-use cross-compilation toolchains "
   ]
  },
  {
   "cell_type": "markdown",
   "metadata": {
    "slideshow": {
     "slide_type": "slide"
    }
   },
   "source": [
    "## dockcross\n",
    "\n",
    "<p>\n",
    "<big>https://github.com/dockcross/dockcross</big>\n",
    "</p>\n",
    "\n",
    "- Good build system support for cross-compilation → [CMake](https://cmake.org/)\n",
    "- Easy access to ready-to-use cross-compilation toolchains → [Docker](https://www.docker.com) images"
   ]
  },
  {
   "cell_type": "markdown",
   "metadata": {
    "slideshow": {
     "slide_type": "subslide"
    }
   },
   "source": [
    "### Open Source on GitHub\n",
    "\n",
    "[![dockcross GitHub](images/dockcross-github.png)](https://github.com/dockcross/dockcross)\n",
    "\n",
    "<p>\n",
    "<big>https://github.com/dockcross/dockcross</big>\n",
    "</p>"
   ]
  },
  {
   "cell_type": "markdown",
   "metadata": {
    "slideshow": {
     "slide_type": "subslide"
    }
   },
   "source": [
    "### CircleCI Deployed Images Freely Available on DockerHub\n",
    "\n",
    "[![dockcross DockerHub](images/dockcross-dockerhub.png)](https://hub.docker.com/u/dockcross)\n",
    "\n",
    "<p>\n",
    "<big>https://hub.docker.com/u/dockcross</big>\n",
    "</p>"
   ]
  },
  {
   "cell_type": "markdown",
   "metadata": {
    "slideshow": {
     "slide_type": "subslide"
    }
   },
   "source": [
    "### Available Cross Compilers\n",
    "\n",
    "- **dockcross/base**: Base image for other toolchain images. From Debian Jessie with GCC, make, autotools, CMake, Ninja, Git, and Python.\n",
    "- **dockcross/android-arm**: The Android NDK standalone toolchain for the arm architecture.\n",
    "- **dockcross/browser-asmjs**: The Emscripten JavaScript cross compiler."
   ]
  },
  {
   "cell_type": "markdown",
   "metadata": {
    "slideshow": {
     "slide_type": "subslide"
    }
   },
   "source": [
    "### Available Cross Compilers (cont.)\n",
    "\n",
    "- **dockcross/linux-arm64**: Cross compiler for the 64-bit ARM platform on Linux, also known as AArch64.\n",
    "- **dockcross/linux-armv5**: Linux armv5 cross compiler toolchain for legacy devices like the Parrot AR Drone.\n",
    "- **dockcross/linux-armv6**: Linux ARMv6 cross compiler toolchain for the Raspberry Pi, etc.\n",
    "- **dockcross/linux-armv7**: Generic Linux armv7 cross compiler toolchain."
   ]
  },
  {
   "cell_type": "markdown",
   "metadata": {
    "slideshow": {
     "slide_type": "subslide"
    }
   },
   "source": [
    "### Available Cross Compilers (cont.)\n",
    "\n",
    "- **dockcross/linux-ppc64le**: Linux PowerPC 64 little endian cross compiler toolchain for the POWER8, etc.\n",
    "- **dockcross/linux-x64**: Linux x86_64 / amd64 compiler. Since the Docker image is natively x86_64, this is not actually a cross compiler.\n",
    "- **dockcross/linux-x86**: Linux i686 cross compiler."
   ]
  },
  {
   "cell_type": "markdown",
   "metadata": {
    "slideshow": {
     "slide_type": "subslide"
    }
   },
   "source": [
    "### Available Cross Compilers (cont.)\n",
    "\n",
    "- **dockcross/manylinux-x64**: Docker manylinux image for building Linux x86_64 / amd64 Python wheel packages.\n",
    "- **dockcross/manylinux-x86**: Docker manylinux image for building Linux i686 Python wheel packages."
   ]
  },
  {
   "cell_type": "markdown",
   "metadata": {
    "slideshow": {
     "slide_type": "subslide"
    }
   },
   "source": [
    "### Available Cross Compilers (cont.)\n",
    "\n",
    "- **dockcross/windows-x64**: 64-bit Windows cross-compiler based on MXE/MinGW-w64.\n",
    "- **dockcross/windows-x86**: 32-bit Windows cross-compiler based on MXE/MinGW-w64."
   ]
  },
  {
   "cell_type": "markdown",
   "metadata": {
    "slideshow": {
     "slide_type": "subslide"
    }
   },
   "source": [
    "### Cross Platform\n",
    "\n",
    "- Linux\n",
    "- Mac OSX (with [Docker for Mac](https://docs.docker.com/docker-for-mac/))\n",
    "- Windows (with [Docker for Windows](https://docs.docker.com/docker-for-windows/) and [Bash on Ubuntu on Windows](https://msdn.microsoft.com/en-us/commandline/wsl/about), [Git Bash](https://git-for-windows.github.io/), etc.)\n",
    "- Continuous Integration (CI) testing systems that support Docker\n",
    "\n",
    "![Linux Mac Windows CircleCI](images/platforms.png)"
   ]
  },
  {
   "cell_type": "markdown",
   "metadata": {
    "slideshow": {
     "slide_type": "slide"
    }
   },
   "source": [
    "## Problems Solved"
   ]
  },
  {
   "cell_type": "markdown",
   "metadata": {
    "slideshow": {
     "slide_type": "subslide"
    }
   },
   "source": [
    "### Toolchain Configuration"
   ]
  },
  {
   "cell_type": "markdown",
   "metadata": {
    "slideshow": {
     "slide_type": "subslide"
    }
   },
   "source": [
    "### Portable, Reproducible Build Environment"
   ]
  },
  {
   "cell_type": "markdown",
   "metadata": {
    "slideshow": {
     "slide_type": "subslide"
    }
   },
   "source": [
    "### Compiler Introspection"
   ]
  },
  {
   "cell_type": "markdown",
   "metadata": {
    "slideshow": {
     "slide_type": "subslide"
    }
   },
   "source": [
    "### Runtime Introspection"
   ]
  },
  {
   "cell_type": "markdown",
   "metadata": {
    "slideshow": {
     "slide_type": "subslide"
    }
   },
   "source": [
    "### Test Execution"
   ]
  },
  {
   "cell_type": "markdown",
   "metadata": {
    "slideshow": {
     "slide_type": "slide"
    }
   },
   "source": [
    "## Check It Out!\n",
    "\n",
    "- <big>https://github.com/dockcross/dockcross</big>\n",
    "- Open source collaboration welcome\n",
    "\n",
    "\n",
    "[![GitHub - https://github.com/thewtex](images/github-logo.png)](https://github.com/thewtex)\n",
    "#### https://github.com/thewtex \n",
    "\n",
    "[![Twitter - https://twitter.com/thewtex](images/twitter-logo.png)](https://twitter.com/thewtex)\n",
    "#### https://twitter.com/thewtex\n",
    "\n",
    "[![Kitware - http://www.kitware.com/](images/kitware-logo.png)](http://www.kitware.com)\n",
    "#### http://www.kitware.com"
   ]
  },
  {
   "cell_type": "code",
   "execution_count": null,
   "metadata": {
    "collapsed": true
   },
   "outputs": [],
   "source": []
  }
 ],
 "metadata": {
  "celltoolbar": "Slideshow",
  "kernelspec": {
   "display_name": "Bash",
   "language": "bash",
   "name": "bash"
  },
  "language_info": {
   "codemirror_mode": "shell",
   "file_extension": ".sh",
   "mimetype": "text/x-sh",
   "name": "bash"
  }
 },
 "nbformat": 4,
 "nbformat_minor": 1
}

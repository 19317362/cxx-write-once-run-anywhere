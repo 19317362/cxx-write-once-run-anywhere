{
 "cells": [
  {
   "cell_type": "markdown",
   "metadata": {
    "collapsed": true,
    "slideshow": {
     "slide_type": "slide"
    }
   },
   "source": [
    "# dockcross: C++ Write Once, Run Anywhere\n",
    "\n",
    "\n",
    "#### Triangle C++ Developers Group\n",
    "#### November 17, 2016\n",
    "\n",
    "#### Matt McCormick, PhD\n",
    "#### Kitware, Inc\n",
    "\n",
    "https://github.com/dockcross/cxx-write-once-run-anywhere"
   ]
  },
  {
   "cell_type": "markdown",
   "metadata": {
    "slideshow": {
     "slide_type": "slide"
    }
   },
   "source": [
    "## Motivation"
   ]
  },
  {
   "cell_type": "markdown",
   "metadata": {},
   "source": [
    "CircleCI\n",
    "TravisCI"
   ]
  },
  {
   "cell_type": "markdown",
   "metadata": {
    "slideshow": {
     "slide_type": "slide"
    }
   },
   "source": [
    "## dockcross\n",
    "\n",
    "<big>https://github.com/dockcross/dockcross</big>\n",
    "\n",
    "Insert GitHub Screen Shot"
   ]
  },
  {
   "cell_type": "markdown",
   "metadata": {
    "slideshow": {
     "slide_type": "slide"
    }
   },
   "source": [
    "### Available Cross Compilers"
   ]
  },
  {
   "cell_type": "markdown",
   "metadata": {
    "slideshow": {
     "slide_type": "slide"
    }
   },
   "source": [
    "## Problems Solved"
   ]
  },
  {
   "cell_type": "markdown",
   "metadata": {
    "slideshow": {
     "slide_type": "subslide"
    }
   },
   "source": [
    "### Toolchain Configuration"
   ]
  },
  {
   "cell_type": "markdown",
   "metadata": {
    "slideshow": {
     "slide_type": "subslide"
    }
   },
   "source": [
    "### Portable, Reproducible Build Environment"
   ]
  },
  {
   "cell_type": "markdown",
   "metadata": {
    "slideshow": {
     "slide_type": "subslide"
    }
   },
   "source": [
    "### Compiler Introspection"
   ]
  },
  {
   "cell_type": "markdown",
   "metadata": {
    "slideshow": {
     "slide_type": "subslide"
    }
   },
   "source": [
    "### Runtime Introspection"
   ]
  },
  {
   "cell_type": "markdown",
   "metadata": {
    "slideshow": {
     "slide_type": "subslide"
    }
   },
   "source": [
    "### Test Execution"
   ]
  },
  {
   "cell_type": "markdown",
   "metadata": {
    "slideshow": {
     "slide_type": "slide"
    }
   },
   "source": [
    "## Check It Out!\n",
    "\n",
    "- <big>https://github.com/dockcross/dockcross</big>\n",
    "- Open source collaboration welcome\n",
    "\n",
    "\n",
    "[![GitHub - https://github.com/thewtex](images/github-logo.png)](https://github.com/thewtex)\n",
    "#### https://github.com/thewtex \n",
    "\n",
    "[![Twitter - https://twitter.com/thewtex](images/twitter-logo.png)](https://twitter.com/thewtex)\n",
    "#### https://twitter.com/thewtex\n",
    "\n",
    "[![Kitware - http://www.kitware.com/](images/kitware-logo.png)](http://www.kitware.com)\n",
    "#### http://www.kitware.com"
   ]
  }
 ],
 "metadata": {
  "celltoolbar": "Slideshow",
  "kernelspec": {
   "display_name": "Bash",
   "language": "bash",
   "name": "bash"
  },
  "language_info": {
   "codemirror_mode": "shell",
   "file_extension": ".sh",
   "mimetype": "text/x-sh",
   "name": "bash"
  }
 },
 "nbformat": 4,
 "nbformat_minor": 1
}

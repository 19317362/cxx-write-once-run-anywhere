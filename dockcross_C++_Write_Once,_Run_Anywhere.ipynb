{
 "cells": [
  {
   "cell_type": "markdown",
   "metadata": {
    "collapsed": true,
    "slideshow": {
     "slide_type": "slide"
    }
   },
   "source": [
    "# dockcross: C++ Write Once, Run Anywhere\n",
    "\n",
    "\n",
    "#### Triangle C++ Developers Group\n",
    "#### November 17, 2016\n",
    "\n",
    "#### Matt McCormick, PhD\n",
    "#### Kitware, Inc\n",
    "\n",
    "https://github.com/dockcross/cxx-write-once-run-anywhere"
   ]
  },
  {
   "cell_type": "markdown",
   "metadata": {
    "slideshow": {
     "slide_type": "slide"
    }
   },
   "source": [
    "## Motivation"
   ]
  },
  {
   "cell_type": "markdown",
   "metadata": {
    "slideshow": {
     "slide_type": "subslide"
    }
   },
   "source": [
    "### \"Write Once, Run Anywhere\"\n",
    "\n",
    "![Java Logo](images/java-logo.png)\n",
    "\n",
    "Claim by Java programmers."
   ]
  },
  {
   "cell_type": "markdown",
   "metadata": {
    "slideshow": {
     "slide_type": "subslide"
    }
   },
   "source": [
    "### Avoid Controversy"
   ]
  },
  {
   "cell_type": "markdown",
   "metadata": {
    "slideshow": {
     "slide_type": "fragment"
    }
   },
   "source": [
    "# EMACS SUX!\n",
    "\n",
    "# VIM RULEZ!\n",
    "\n",
    "![vim rulez](images/vim-rulez.jpg)"
   ]
  },
  {
   "cell_type": "markdown",
   "metadata": {
    "slideshow": {
     "slide_type": "subslide"
    }
   },
   "source": [
    "### FactCheck: Java runs everywhere?\n",
    "\n",
    "![The Java JVM](images/jvm.png)"
   ]
  },
  {
   "cell_type": "markdown",
   "metadata": {
    "slideshow": {
     "slide_type": "fragment"
    }
   },
   "source": [
    "![You didn't fact check that!](images/fact-check1.jpg)\n",
    "\n",
    "- If you have a JVM installed..."
   ]
  },
  {
   "cell_type": "markdown",
   "metadata": {
    "slideshow": {
     "slide_type": "subslide"
    }
   },
   "source": [
    "### FactCheck: C++ runs everywhere"
   ]
  },
  {
   "cell_type": "markdown",
   "metadata": {
    "slideshow": {
     "slide_type": "fragment"
    }
   },
   "source": [
    "- C/C++ compilers are available for more platforms than any other language ✔"
   ]
  },
  {
   "cell_type": "markdown",
   "metadata": {
    "slideshow": {
     "slide_type": "fragment"
    }
   },
   "source": [
    "- We can effectively run C++ code on any platform ?"
   ]
  },
  {
   "cell_type": "markdown",
   "metadata": {
    "slideshow": {
     "slide_type": "fragment"
    }
   },
   "source": [
    "![Not true](images/fact-check2.jpg)"
   ]
  },
  {
   "cell_type": "markdown",
   "metadata": {
    "slideshow": {
     "slide_type": "subslide"
    }
   },
   "source": [
    "### What do we need to make it happen?"
   ]
  },
  {
   "cell_type": "markdown",
   "metadata": {
    "slideshow": {
     "slide_type": "fragment"
    }
   },
   "source": [
    "- Good build system support for cross-compilation"
   ]
  },
  {
   "cell_type": "markdown",
   "metadata": {
    "slideshow": {
     "slide_type": "fragment"
    }
   },
   "source": [
    "- Easy access to ready-to-use cross-compilation toolchains "
   ]
  },
  {
   "cell_type": "markdown",
   "metadata": {
    "slideshow": {
     "slide_type": "slide"
    }
   },
   "source": [
    "## dockcross\n",
    "\n",
    "<p>\n",
    "<big>https://github.com/dockcross/dockcross</big>\n",
    "</p>\n",
    "\n",
    "- Good build system support for cross-compilation → [CMake](https://cmake.org/)\n",
    "- Easy access to ready-to-use cross-compilation toolchains → [Docker](https://www.docker.com) images"
   ]
  },
  {
   "cell_type": "markdown",
   "metadata": {
    "slideshow": {
     "slide_type": "subslide"
    }
   },
   "source": [
    "### Open Source on GitHub\n",
    "\n",
    "[![dockcross GitHub](images/dockcross-github.png)](https://github.com/dockcross/dockcross)\n",
    "\n",
    "<p>\n",
    "<big>https://github.com/dockcross/dockcross</big>\n",
    "</p>"
   ]
  },
  {
   "cell_type": "markdown",
   "metadata": {
    "slideshow": {
     "slide_type": "subslide"
    }
   },
   "source": [
    "### CircleCI Deployed Images Freely Available on DockerHub\n",
    "\n",
    "[![dockcross DockerHub](images/dockcross-dockerhub.png)](https://hub.docker.com/u/dockcross)\n",
    "\n",
    "<p>\n",
    "<big>https://hub.docker.com/u/dockcross</big>\n",
    "</p>"
   ]
  },
  {
   "cell_type": "markdown",
   "metadata": {
    "slideshow": {
     "slide_type": "subslide"
    }
   },
   "source": [
    "### Available Cross Compilers\n",
    "\n",
    "- **dockcross/base**: Base image for other toolchain images. From Debian Jessie with GCC, make, autotools, CMake, Ninja, Git, and Python.\n",
    "- **dockcross/android-arm**: The Android NDK standalone toolchain for the arm architecture.\n",
    "- **dockcross/browser-asmjs**: The Emscripten JavaScript cross compiler."
   ]
  },
  {
   "cell_type": "markdown",
   "metadata": {
    "slideshow": {
     "slide_type": "subslide"
    }
   },
   "source": [
    "### Available Cross Compilers (cont.)\n",
    "\n",
    "- **dockcross/linux-arm64**: Cross compiler for the 64-bit ARM platform on Linux, also known as AArch64.\n",
    "- **dockcross/linux-armv5**: Linux armv5 cross compiler toolchain for legacy devices like the Parrot AR Drone.\n",
    "- **dockcross/linux-armv6**: Linux ARMv6 cross compiler toolchain for the Raspberry Pi, etc.\n",
    "- **dockcross/linux-armv7**: Generic Linux armv7 cross compiler toolchain."
   ]
  },
  {
   "cell_type": "markdown",
   "metadata": {
    "slideshow": {
     "slide_type": "subslide"
    }
   },
   "source": [
    "### Available Cross Compilers (cont.)\n",
    "\n",
    "- **dockcross/linux-ppc64le**: Linux PowerPC 64 little endian cross compiler toolchain for the POWER8, etc.\n",
    "- **dockcross/linux-x64**: Linux x86_64 / amd64 compiler. Since the Docker image is natively x86_64, this is not actually a cross compiler.\n",
    "- **dockcross/linux-x86**: Linux i686 cross compiler."
   ]
  },
  {
   "cell_type": "markdown",
   "metadata": {
    "slideshow": {
     "slide_type": "subslide"
    }
   },
   "source": [
    "### Available Cross Compilers (cont.)\n",
    "\n",
    "- **dockcross/manylinux-x64**: Docker manylinux image for building Linux x86_64 / amd64 Python wheel packages.\n",
    "- **dockcross/manylinux-x86**: Docker manylinux image for building Linux i686 Python wheel packages."
   ]
  },
  {
   "cell_type": "markdown",
   "metadata": {
    "slideshow": {
     "slide_type": "subslide"
    }
   },
   "source": [
    "### Available Cross Compilers (cont.)\n",
    "\n",
    "- **dockcross/windows-x64**: 64-bit Windows cross-compiler based on MXE/MinGW-w64.\n",
    "- **dockcross/windows-x86**: 32-bit Windows cross-compiler based on MXE/MinGW-w64."
   ]
  },
  {
   "cell_type": "markdown",
   "metadata": {
    "slideshow": {
     "slide_type": "subslide"
    }
   },
   "source": [
    "### Not Available: Mac OSX\n",
    "\n",
    "A [cross-compiling toolchain exists](https://github.com/tpoechtrager/osxcross), but [Apple's SDK terms of service](https://www.apple.com/legal/sla/docs/xcode.pdf) state: \n",
    "\n",
    "> You agree not to rent, lease, lend, upload to or host on any website or server, sell, redistribute, or\n",
    "> sublicense the Apple Software and Apple Services, in whole or in part, or to enable others to do so. \n",
    "\n",
    "and \n",
    "\n",
    "> You are expressly prohibited from separately using the Apple SDKs or attempting to run any part of the\n",
    "> Apple Software on non-Apple-branded hardware. "
   ]
  },
  {
   "cell_type": "markdown",
   "metadata": {
    "slideshow": {
     "slide_type": "subslide"
    }
   },
   "source": [
    "### Cross Platform\n",
    "\n",
    "- Linux\n",
    "- Mac OSX (with [Docker for Mac](https://docs.docker.com/docker-for-mac/))\n",
    "- Windows (with [Docker for Windows](https://docs.docker.com/docker-for-windows/) and [Bash on Ubuntu on Windows](https://msdn.microsoft.com/en-us/commandline/wsl/about), [Git Bash](https://git-for-windows.github.io/), etc.)\n",
    "- Continuous Integration (CI) testing systems that support Docker\n",
    "\n",
    "![Linux Mac Windows CircleCI](images/platforms.png)"
   ]
  },
  {
   "cell_type": "markdown",
   "metadata": {
    "slideshow": {
     "slide_type": "subslide"
    }
   },
   "source": [
    "### Example"
   ]
  },
  {
   "cell_type": "code",
   "execution_count": 2,
   "metadata": {
    "collapsed": false
   },
   "outputs": [
    {
     "name": "stdout",
     "output_type": "stream",
     "text": [
      ".\r\n",
      "./dockcross-windows-x64\r\n",
      "./dockcross-linux-arm64\r\n",
      "./src\r\n",
      "./src/IntrospectionDemoConfigure.h.in\r\n",
      "./src/CMakeLists.txt\r\n",
      "./build\r\n",
      "./build/.ninja_log\r\n",
      "./build/cmake_install.cmake\r\n",
      "./build/CMakeFiles\r\n",
      "./build/CMakeFiles/feature_tests.bin\r\n",
      "./build/CMakeFiles/CMakeOutput.log\r\n",
      "./build/CMakeFiles/CMakeTmp\r\n",
      "./build/CMakeFiles/3.6.1\r\n",
      "./build/CMakeFiles/3.6.1/CMakeCXXCompiler.cmake\r\n",
      "./build/CMakeFiles/3.6.1/CMakeDetermineCompilerABI_CXX.bin\r\n",
      "./build/CMakeFiles/3.6.1/CMakeCCompiler.cmake\r\n",
      "./build/CMakeFiles/3.6.1/CompilerIdCXX\r\n",
      "./build/CMakeFiles/3.6.1/CompilerIdCXX/a.exe\r\n",
      "./build/CMakeFiles/3.6.1/CompilerIdCXX/CMakeCXXCompilerId.cpp\r\n",
      "./build/CMakeFiles/3.6.1/CMakeRCCompiler.cmake\r\n",
      "./build/CMakeFiles/3.6.1/CMakeSystem.cmake\r\n",
      "./build/CMakeFiles/3.6.1/CompilerIdC\r\n",
      "./build/CMakeFiles/3.6.1/CompilerIdC/a.exe\r\n",
      "./build/CMakeFiles/3.6.1/CompilerIdC/CMakeCCompilerId.c\r\n",
      "./build/CMakeFiles/3.6.1/CMakeDetermineCompilerABI_C.bin\r\n",
      "./build/CMakeFiles/CheckTypeSize\r\n",
      "./build/CMakeFiles/CheckTypeSize/_SIZEOF_LONG.c\r\n",
      "./build/CMakeFiles/CheckTypeSize/_SIZEOF_LONG.bin\r\n",
      "./build/CMakeFiles/CheckTypeSize/IntrospectionDemo_SIZEOF_LONG.c\r\n",
      "./build/CMakeFiles/CheckTypeSize/IntrospectionDemo_SIZEOF_LONG.bin\r\n",
      "./build/CMakeFiles/TargetDirectories.txt\r\n",
      "./build/CMakeFiles/cmake.check_cache\r\n",
      "./build/CMakeFiles/feature_tests.c\r\n",
      "./build/CMakeFiles/feature_tests.cxx\r\n",
      "./build/IntrospectionDemoConfigure.h\r\n",
      "./build/.ninja_deps\r\n",
      "./build/build.ninja\r\n",
      "./build/CMakeCache.txt\r\n",
      "./build/rules.ninja\r\n"
     ]
    }
   ],
   "source": [
    "cd example\n",
    "find ."
   ]
  },
  {
   "cell_type": "code",
   "execution_count": 1,
   "metadata": {
    "collapsed": false,
    "slideshow": {
     "slide_type": "skip"
    }
   },
   "outputs": [
    {
     "name": "stdout",
     "output_type": "stream",
     "text": []
    }
   ],
   "source": [
    "docker run --rm dockcross/windows-x64 > dockcross-windows-x64\n",
    "chmod +x ./dockcross-windows-x64\n",
    "docker run --rm dockcross/linux-arm64 > dockcross-linux-arm64\n",
    "chmod +x ./dockcross-linux-arm64"
   ]
  },
  {
   "cell_type": "markdown",
   "metadata": {
    "slideshow": {
     "slide_type": "subslide"
    }
   },
   "source": [
    "#### Get the dockcross Script"
   ]
  },
  {
   "cell_type": "code",
   "execution_count": 10,
   "metadata": {
    "collapsed": false
   },
   "outputs": [
    {
     "name": "stdout",
     "output_type": "stream",
     "text": [
      "jovyan\r\n"
     ]
    }
   ],
   "source": [
    "#docker run --rm dockcross/windows-x64 > dockcross-windows-x64\n",
    "#chmod +x ./dockcross-windows-x64\n",
    "./dockcross-windows-x64 ls /home"
   ]
  },
  {
   "cell_type": "markdown",
   "metadata": {
    "slideshow": {
     "slide_type": "subslide"
    }
   },
   "source": [
    "#### Build the Project"
   ]
  },
  {
   "cell_type": "code",
   "execution_count": 9,
   "metadata": {
    "collapsed": false
   },
   "outputs": [
    {
     "name": "stdout",
     "output_type": "stream",
     "text": [
      "/home/jovyan/work/example\r\n",
      "CMake Error: The source directory \"/work/src\" does not exist.\r\n",
      "Specify --help for usage, or press the help button on the CMake GUI.\r\n",
      "ninja: Entering directory `build'\r\n",
      "ninja: fatal: chdir to 'build' - No such file or directory\r\n"
     ]
    }
   ],
   "source": [
    "pwd\n",
    "./dockcross-windows-x64 cmake -Hsrc -Bbuild -GNinja\n",
    "./dockcross-windows-x64 ninja -Cbuild"
   ]
  },
  {
   "cell_type": "markdown",
   "metadata": {
    "slideshow": {
     "slide_type": "slide"
    }
   },
   "source": [
    "## Problems Solved"
   ]
  },
  {
   "cell_type": "markdown",
   "metadata": {
    "slideshow": {
     "slide_type": "subslide"
    }
   },
   "source": [
    "### Toolchain Configuration\n",
    "\n",
    "- Pre-built and configured toolchains.\n",
    "- Most images also contain an emulator for the target system.\n",
    "- Make variables (CC, LD etc) are set to point to the appropriate tools in the container.\n",
    "- Recent CMake and ninja are precompiled.\n",
    "- Toolchain files configured for CMake.\n",
    "\n",
    "![Frustrated Jackie Chan](images/xcompile_jackie_chan.jpg)"
   ]
  },
  {
   "cell_type": "markdown",
   "metadata": {
    "slideshow": {
     "slide_type": "subslide"
    }
   },
   "source": [
    "### Portable, Reproducible Build Environment\n",
    "\n",
    "- Download the build system with a simple `docker pull`\n",
    "- Commands in the container are run as the calling user, so that any created files have the expected ownership, (i.e. not root).\n",
    "- Clean build environment separation -- every run is a new Docker container"
   ]
  },
  {
   "cell_type": "markdown",
   "metadata": {
    "slideshow": {
     "slide_type": "subslide"
    }
   },
   "source": [
    "### Compiler-based Platform Introspection\n",
    "\n",
    "CMake has a [`try_compile`](https://cmake.org/cmake/help/latest/command/try_compile.html) command to perform compiler-based platform introspection. It learns about the system by trying to compile a small source file.\n",
    "\n",
    "```CMake\n",
    "# The CheckTypeSize CMake module uses the try_compile command internally\n",
    "include(CheckTypeSize)\n",
    "check_type_size(\"long\" IntrospectionDemo_SIZEOF_LONG)\n",
    "\n",
    "configure_file(IntrospectionDemoConfigure.h.in\n",
    "  IntrospectionDemoConfigure.h)\n",
    "\n",
    "```"
   ]
  },
  {
   "cell_type": "code",
   "execution_count": null,
   "metadata": {
    "collapsed": true
   },
   "outputs": [],
   "source": []
  },
  {
   "cell_type": "markdown",
   "metadata": {
    "slideshow": {
     "slide_type": "subslide"
    }
   },
   "source": [
    "### Runtime-based Platform Introspection\n",
    "\n",
    "CMake also has a [`try_run`](https://cmake.org/cmake/help/latest/command/try_run.html) command to perform command execution-based platform introspection. It learns about the system by trying to run a small source file. An emulator can be used to automatically generate this information when cross-compiling."
   ]
  },
  {
   "cell_type": "markdown",
   "metadata": {
    "slideshow": {
     "slide_type": "subslide"
    }
   },
   "source": [
    "### Test Execution\n",
    "\n",
    "How do we know the build works -- we need to test it!\n",
    "\n",
    "Tests can be executed with the target system emulator."
   ]
  },
  {
   "cell_type": "markdown",
   "metadata": {
    "slideshow": {
     "slide_type": "slide"
    }
   },
   "source": [
    "## Check It Out!\n",
    "\n",
    "- <big>https://github.com/dockcross/dockcross</big>\n",
    "- Open source collaboration welcome\n",
    "\n",
    "\n",
    "[![GitHub - https://github.com/thewtex](images/github-logo.png)](https://github.com/thewtex)\n",
    "#### https://github.com/thewtex \n",
    "\n",
    "[![Twitter - https://twitter.com/thewtex](images/twitter-logo.png)](https://twitter.com/thewtex)\n",
    "#### https://twitter.com/thewtex\n",
    "\n",
    "[![Kitware - http://www.kitware.com/](images/kitware-logo.png)](http://www.kitware.com)\n",
    "#### http://www.kitware.com"
   ]
  }
 ],
 "metadata": {
  "celltoolbar": "Slideshow",
  "kernelspec": {
   "display_name": "Bash",
   "language": "bash",
   "name": "bash"
  },
  "language_info": {
   "codemirror_mode": "shell",
   "file_extension": ".sh",
   "mimetype": "text/x-sh",
   "name": "bash"
  }
 },
 "nbformat": 4,
 "nbformat_minor": 1
}
